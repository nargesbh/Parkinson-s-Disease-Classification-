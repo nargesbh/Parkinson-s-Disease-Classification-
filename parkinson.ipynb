{
  "cells": [
    {
      "cell_type": "markdown",
      "metadata": {},
      "source": [
        "In this cell, I start my project by importing the necessary Python libraries."
      ]
    },
    {
      "cell_type": "code",
      "execution_count": 1,
      "metadata": {},
      "outputs": [],
      "source": [
        "import pandas as pd\n",
        "import matplotlib.pyplot as plt\n",
        "import seaborn as sns\n",
        "import numpy as np\n",
        "from sklearn import preprocessing\n",
        "from sklearn.model_selection import ShuffleSplit, cross_val_score\n",
        "from sklearn import tree, svm\n",
        "from sklearn.neighbors import KNeighborsClassifier\n",
        "from sklearn.ensemble import RandomForestClassifier\n",
        "from scipy import stats\n",
        "from sklearn.preprocessing import StandardScaler,MinMaxScaler\n",
        "from pandas import DataFrame\n",
        "import seaborn as sns\n",
        "from sklearn.model_selection import train_test_split\n",
        "from sklearn.metrics import precision_score, recall_score, accuracy_score, confusion_matrix\n",
        "from sklearn.decomposition import PCA\n",
        "import matplotlib.pyplot as plt\n",
        "import seaborn as sns"
      ]
    },
    {
      "cell_type": "markdown",
      "metadata": {
        "id": "z1okaEwGE506"
      },
      "source": [
        "### Reading the dataset:\n",
        "In this section, I load my dataset from a CSV file named \"pd_speech_features.csv\" using the pandas library. To get an initial understanding of the data, I display the first few rows."
      ]
    },
    {
      "cell_type": "code",
      "execution_count": 2,
      "metadata": {
        "id": "G4fzEJEZi17d"
      },
      "outputs": [],
      "source": [
        "data = pd.read_csv(\"pd_speech_features.csv\")"
      ]
    },
    {
      "cell_type": "code",
      "execution_count": 3,
      "metadata": {
        "colab": {
          "base_uri": "https://localhost:8080/",
          "height": 316
        },
        "id": "nKY6toMXjF5s",
        "outputId": "ce846b36-b976-4df2-ee96-e0e509deb0fe"
      },
      "outputs": [
        {
          "data": {
            "text/html": [
              "<div>\n",
              "<style scoped>\n",
              "    .dataframe tbody tr th:only-of-type {\n",
              "        vertical-align: middle;\n",
              "    }\n",
              "\n",
              "    .dataframe tbody tr th {\n",
              "        vertical-align: top;\n",
              "    }\n",
              "\n",
              "    .dataframe thead th {\n",
              "        text-align: right;\n",
              "    }\n",
              "</style>\n",
              "<table border=\"1\" class=\"dataframe\">\n",
              "  <thead>\n",
              "    <tr style=\"text-align: right;\">\n",
              "      <th></th>\n",
              "      <th>id</th>\n",
              "      <th>gender</th>\n",
              "      <th>PPE</th>\n",
              "      <th>DFA</th>\n",
              "      <th>RPDE</th>\n",
              "      <th>numPulses</th>\n",
              "      <th>numPeriodsPulses</th>\n",
              "      <th>meanPeriodPulses</th>\n",
              "      <th>stdDevPeriodPulses</th>\n",
              "      <th>locPctJitter</th>\n",
              "      <th>...</th>\n",
              "      <th>tqwt_kurtosisValue_dec_28</th>\n",
              "      <th>tqwt_kurtosisValue_dec_29</th>\n",
              "      <th>tqwt_kurtosisValue_dec_30</th>\n",
              "      <th>tqwt_kurtosisValue_dec_31</th>\n",
              "      <th>tqwt_kurtosisValue_dec_32</th>\n",
              "      <th>tqwt_kurtosisValue_dec_33</th>\n",
              "      <th>tqwt_kurtosisValue_dec_34</th>\n",
              "      <th>tqwt_kurtosisValue_dec_35</th>\n",
              "      <th>tqwt_kurtosisValue_dec_36</th>\n",
              "      <th>class</th>\n",
              "    </tr>\n",
              "  </thead>\n",
              "  <tbody>\n",
              "    <tr>\n",
              "      <th>0</th>\n",
              "      <td>0</td>\n",
              "      <td>1</td>\n",
              "      <td>0.85247</td>\n",
              "      <td>0.71826</td>\n",
              "      <td>0.57227</td>\n",
              "      <td>240</td>\n",
              "      <td>239</td>\n",
              "      <td>0.008064</td>\n",
              "      <td>0.000087</td>\n",
              "      <td>0.00218</td>\n",
              "      <td>...</td>\n",
              "      <td>1.5620</td>\n",
              "      <td>2.6445</td>\n",
              "      <td>3.8686</td>\n",
              "      <td>4.2105</td>\n",
              "      <td>5.1221</td>\n",
              "      <td>4.4625</td>\n",
              "      <td>2.6202</td>\n",
              "      <td>3.0004</td>\n",
              "      <td>18.9405</td>\n",
              "      <td>1</td>\n",
              "    </tr>\n",
              "    <tr>\n",
              "      <th>1</th>\n",
              "      <td>0</td>\n",
              "      <td>1</td>\n",
              "      <td>0.76686</td>\n",
              "      <td>0.69481</td>\n",
              "      <td>0.53966</td>\n",
              "      <td>234</td>\n",
              "      <td>233</td>\n",
              "      <td>0.008258</td>\n",
              "      <td>0.000073</td>\n",
              "      <td>0.00195</td>\n",
              "      <td>...</td>\n",
              "      <td>1.5589</td>\n",
              "      <td>3.6107</td>\n",
              "      <td>23.5155</td>\n",
              "      <td>14.1962</td>\n",
              "      <td>11.0261</td>\n",
              "      <td>9.5082</td>\n",
              "      <td>6.5245</td>\n",
              "      <td>6.3431</td>\n",
              "      <td>45.1780</td>\n",
              "      <td>1</td>\n",
              "    </tr>\n",
              "    <tr>\n",
              "      <th>2</th>\n",
              "      <td>0</td>\n",
              "      <td>1</td>\n",
              "      <td>0.85083</td>\n",
              "      <td>0.67604</td>\n",
              "      <td>0.58982</td>\n",
              "      <td>232</td>\n",
              "      <td>231</td>\n",
              "      <td>0.008340</td>\n",
              "      <td>0.000060</td>\n",
              "      <td>0.00176</td>\n",
              "      <td>...</td>\n",
              "      <td>1.5643</td>\n",
              "      <td>2.3308</td>\n",
              "      <td>9.4959</td>\n",
              "      <td>10.7458</td>\n",
              "      <td>11.0177</td>\n",
              "      <td>4.8066</td>\n",
              "      <td>2.9199</td>\n",
              "      <td>3.1495</td>\n",
              "      <td>4.7666</td>\n",
              "      <td>1</td>\n",
              "    </tr>\n",
              "    <tr>\n",
              "      <th>3</th>\n",
              "      <td>1</td>\n",
              "      <td>0</td>\n",
              "      <td>0.41121</td>\n",
              "      <td>0.79672</td>\n",
              "      <td>0.59257</td>\n",
              "      <td>178</td>\n",
              "      <td>177</td>\n",
              "      <td>0.010858</td>\n",
              "      <td>0.000183</td>\n",
              "      <td>0.00419</td>\n",
              "      <td>...</td>\n",
              "      <td>3.7805</td>\n",
              "      <td>3.5664</td>\n",
              "      <td>5.2558</td>\n",
              "      <td>14.0403</td>\n",
              "      <td>4.2235</td>\n",
              "      <td>4.6857</td>\n",
              "      <td>4.8460</td>\n",
              "      <td>6.2650</td>\n",
              "      <td>4.0603</td>\n",
              "      <td>1</td>\n",
              "    </tr>\n",
              "    <tr>\n",
              "      <th>4</th>\n",
              "      <td>1</td>\n",
              "      <td>0</td>\n",
              "      <td>0.32790</td>\n",
              "      <td>0.79782</td>\n",
              "      <td>0.53028</td>\n",
              "      <td>236</td>\n",
              "      <td>235</td>\n",
              "      <td>0.008162</td>\n",
              "      <td>0.002669</td>\n",
              "      <td>0.00535</td>\n",
              "      <td>...</td>\n",
              "      <td>6.1727</td>\n",
              "      <td>5.8416</td>\n",
              "      <td>6.0805</td>\n",
              "      <td>5.7621</td>\n",
              "      <td>7.7817</td>\n",
              "      <td>11.6891</td>\n",
              "      <td>8.2103</td>\n",
              "      <td>5.0559</td>\n",
              "      <td>6.1164</td>\n",
              "      <td>1</td>\n",
              "    </tr>\n",
              "  </tbody>\n",
              "</table>\n",
              "<p>5 rows × 755 columns</p>\n",
              "</div>"
            ],
            "text/plain": [
              "   id  gender      PPE      DFA     RPDE  numPulses  numPeriodsPulses  \\\n",
              "0   0       1  0.85247  0.71826  0.57227        240               239   \n",
              "1   0       1  0.76686  0.69481  0.53966        234               233   \n",
              "2   0       1  0.85083  0.67604  0.58982        232               231   \n",
              "3   1       0  0.41121  0.79672  0.59257        178               177   \n",
              "4   1       0  0.32790  0.79782  0.53028        236               235   \n",
              "\n",
              "   meanPeriodPulses  stdDevPeriodPulses  locPctJitter  ...  \\\n",
              "0          0.008064            0.000087       0.00218  ...   \n",
              "1          0.008258            0.000073       0.00195  ...   \n",
              "2          0.008340            0.000060       0.00176  ...   \n",
              "3          0.010858            0.000183       0.00419  ...   \n",
              "4          0.008162            0.002669       0.00535  ...   \n",
              "\n",
              "   tqwt_kurtosisValue_dec_28  tqwt_kurtosisValue_dec_29  \\\n",
              "0                     1.5620                     2.6445   \n",
              "1                     1.5589                     3.6107   \n",
              "2                     1.5643                     2.3308   \n",
              "3                     3.7805                     3.5664   \n",
              "4                     6.1727                     5.8416   \n",
              "\n",
              "   tqwt_kurtosisValue_dec_30  tqwt_kurtosisValue_dec_31  \\\n",
              "0                     3.8686                     4.2105   \n",
              "1                    23.5155                    14.1962   \n",
              "2                     9.4959                    10.7458   \n",
              "3                     5.2558                    14.0403   \n",
              "4                     6.0805                     5.7621   \n",
              "\n",
              "   tqwt_kurtosisValue_dec_32  tqwt_kurtosisValue_dec_33  \\\n",
              "0                     5.1221                     4.4625   \n",
              "1                    11.0261                     9.5082   \n",
              "2                    11.0177                     4.8066   \n",
              "3                     4.2235                     4.6857   \n",
              "4                     7.7817                    11.6891   \n",
              "\n",
              "   tqwt_kurtosisValue_dec_34  tqwt_kurtosisValue_dec_35  \\\n",
              "0                     2.6202                     3.0004   \n",
              "1                     6.5245                     6.3431   \n",
              "2                     2.9199                     3.1495   \n",
              "3                     4.8460                     6.2650   \n",
              "4                     8.2103                     5.0559   \n",
              "\n",
              "   tqwt_kurtosisValue_dec_36  class  \n",
              "0                    18.9405      1  \n",
              "1                    45.1780      1  \n",
              "2                     4.7666      1  \n",
              "3                     4.0603      1  \n",
              "4                     6.1164      1  \n",
              "\n",
              "[5 rows x 755 columns]"
            ]
          },
          "execution_count": 3,
          "metadata": {},
          "output_type": "execute_result"
        }
      ],
      "source": [
        "data.head()"
      ]
    },
    {
      "cell_type": "markdown",
      "metadata": {
        "id": "JvTSmIaoFY7c"
      },
      "source": [
        "Here i delete 'id' column. I also seperate features from label column."
      ]
    },
    {
      "cell_type": "code",
      "execution_count": 4,
      "metadata": {
        "id": "AwQ7bJXGkubR"
      },
      "outputs": [],
      "source": [
        "X  = data.iloc[: , 1:754]"
      ]
    },
    {
      "cell_type": "code",
      "execution_count": 5,
      "metadata": {
        "id": "YBjclm-jloUt"
      },
      "outputs": [],
      "source": [
        "# y = data.iloc[: , 754:755]\n",
        "y = data['class']"
      ]
    },
    {
      "cell_type": "markdown",
      "metadata": {},
      "source": [
        "### Data Visualization:"
      ]
    },
    {
      "cell_type": "markdown",
      "metadata": {},
      "source": [
        "Calculate summary statistics for initial data exploration"
      ]
    },
    {
      "cell_type": "code",
      "execution_count": 6,
      "metadata": {},
      "outputs": [
        {
          "name": "stdout",
          "output_type": "stream",
          "text": [
            "               id      gender         PPE         DFA        RPDE   numPulses  \\\n",
            "count  756.000000  756.000000  756.000000  756.000000  756.000000  756.000000   \n",
            "mean   125.500000    0.515873    0.746284    0.700414    0.489058  323.972222   \n",
            "std     72.793721    0.500079    0.169294    0.069718    0.137442   99.219059   \n",
            "min      0.000000    0.000000    0.041551    0.543500    0.154300    2.000000   \n",
            "25%     62.750000    0.000000    0.762833    0.647053    0.386537  251.000000   \n",
            "50%    125.500000    1.000000    0.809655    0.700525    0.484355  317.000000   \n",
            "75%    188.250000    1.000000    0.834315    0.754985    0.586515  384.250000   \n",
            "max    251.000000    1.000000    0.907660    0.852640    0.871230  907.000000   \n",
            "\n",
            "       numPeriodsPulses  meanPeriodPulses  stdDevPeriodPulses  locPctJitter  \\\n",
            "count        756.000000        756.000000          756.000000    756.000000   \n",
            "mean         322.678571          0.006360            0.000383      0.002324   \n",
            "std           99.402499          0.001826            0.000728      0.002628   \n",
            "min            1.000000          0.002107            0.000011      0.000210   \n",
            "25%          250.000000          0.005003            0.000049      0.000970   \n",
            "50%          316.000000          0.006048            0.000077      0.001495   \n",
            "75%          383.250000          0.007528            0.000171      0.002520   \n",
            "max          905.000000          0.012966            0.003483      0.027750   \n",
            "\n",
            "       ...  tqwt_kurtosisValue_dec_28  tqwt_kurtosisValue_dec_29  \\\n",
            "count  ...                 756.000000                 756.000000   \n",
            "mean   ...                  26.237251                  22.840337   \n",
            "std    ...                  42.220693                  32.626464   \n",
            "min    ...                   1.509800                   1.531700   \n",
            "25%    ...                   2.408675                   3.452800   \n",
            "50%    ...                   5.586300                   7.062750   \n",
            "75%    ...                  28.958075                  29.830850   \n",
            "max    ...                 239.788800                 203.311300   \n",
            "\n",
            "       tqwt_kurtosisValue_dec_30  tqwt_kurtosisValue_dec_31  \\\n",
            "count                 756.000000                 756.000000   \n",
            "mean                   18.587888                  13.872018   \n",
            "std                    25.537464                  20.046029   \n",
            "min                     1.582900                   1.747200   \n",
            "25%                     3.354825                   3.077450   \n",
            "50%                     6.077400                   4.770850   \n",
            "75%                    21.944050                  13.188000   \n",
            "max                   121.542900                 102.207000   \n",
            "\n",
            "       tqwt_kurtosisValue_dec_32  tqwt_kurtosisValue_dec_33  \\\n",
            "count                 756.000000                 756.000000   \n",
            "mean                   12.218953                  12.375335   \n",
            "std                    17.783642                  16.341665   \n",
            "min                     1.789500                   1.628700   \n",
            "25%                     2.937025                   3.114375   \n",
            "50%                     4.300450                   4.741450   \n",
            "75%                    10.876150                  12.201325   \n",
            "max                    85.571700                  73.532200   \n",
            "\n",
            "       tqwt_kurtosisValue_dec_34  tqwt_kurtosisValue_dec_35  \\\n",
            "count                 756.000000                 756.000000   \n",
            "mean                   14.799230                  14.751559   \n",
            "std                    15.722502                  14.432979   \n",
            "min                     1.861700                   1.955900   \n",
            "25%                     3.665925                   3.741275   \n",
            "50%                     6.725700                   7.334250   \n",
            "75%                    21.922050                  22.495175   \n",
            "max                    62.007300                  57.544300   \n",
            "\n",
            "       tqwt_kurtosisValue_dec_36       class  \n",
            "count                 756.000000  756.000000  \n",
            "mean                   31.481110    0.746032  \n",
            "std                    34.230991    0.435568  \n",
            "min                     2.364000    0.000000  \n",
            "25%                     3.948750    0.000000  \n",
            "50%                    10.637250    1.000000  \n",
            "75%                    61.125325    1.000000  \n",
            "max                   156.423700    1.000000  \n",
            "\n",
            "[8 rows x 755 columns]\n"
          ]
        }
      ],
      "source": [
        "summary_stats = data.describe()\n",
        "print(summary_stats)"
      ]
    },
    {
      "cell_type": "markdown",
      "metadata": {},
      "source": [
        "Histogram of the target variable 'y'"
      ]
    },
    {
      "cell_type": "code",
      "execution_count": 7,
      "metadata": {},
      "outputs": [
        {
          "data": {
            "image/png": "[encoded data removed]",
            "text/plain": [
              "<Figure size 400x300 with 1 Axes>"
            ]
          },
          "metadata": {},
          "output_type": "display_data"
        }
      ],
      "source": [
        "plt.figure(figsize=(4, 3))\n",
        "sns.countplot(x='class', data=data)\n",
        "plt.title('Distribution of Target Variable (Class)')\n",
        "plt.xlabel('Class')\n",
        "plt.ylabel('Count')\n",
        "plt.show()"
      ]
    },
    {
      "cell_type": "markdown",
      "metadata": {},
      "source": [
        "### Splitting:\n",
        "Split the dataset into training and testing sets"
      ]
    },
    {
      "cell_type": "code",
      "execution_count": 8,
      "metadata": {
        "id": "lBPemdafl6QZ"
      },
      "outputs": [],
      "source": [
        "X_train, X_test, y_train, y_test = train_test_split(X, y, test_size=0.3, random_state=100, shuffle = True)\n",
        "\n",
        "X_train_np = X_train.to_numpy()\n",
        "y_train_np = y_train.to_numpy()"
      ]
    },
    {
      "cell_type": "markdown",
      "metadata": {
        "id": "kBBwo7b383UL"
      },
      "source": [
        "### standard Scaling features:\n",
        "Standardizing features by removing the mean and scaling to unit variance."
      ]
    },
    {
      "cell_type": "code",
      "execution_count": 9,
      "metadata": {
        "id": "gDDgQGgx82uA"
      },
      "outputs": [],
      "source": [
        "scaler = StandardScaler()\n",
        "X_train = scaler.fit_transform(X_train)\n",
        "X_test = scaler.transform(X_test)"
      ]
    },
    {
      "cell_type": "markdown",
      "metadata": {
        "id": "AwnhkW0wFtq9"
      },
      "source": [
        "As it's mentioned in HW2, I should check the accuracy in the case where all i predict is label '1'.\\\n",
        "I do it as bellow:"
      ]
    },
    {
      "cell_type": "code",
      "execution_count": 10,
      "metadata": {
        "colab": {
          "base_uri": "https://localhost:8080/"
        },
        "id": "75HZ22VxnXTa",
        "outputId": "bd9627a4-7a1e-43c1-da57-11845087fdce"
      },
      "outputs": [
        {
          "data": {
            "text/plain": [
              "70.04405286343612"
            ]
          },
          "execution_count": 10,
          "metadata": {},
          "output_type": "execute_result"
        }
      ],
      "source": [
        "import numpy as np \n",
        "y_ones = np.ones_like(y_test)\n",
        "accuracy_score(y_test, y_ones)*100"
      ]
    },
    {
      "cell_type": "markdown",
      "metadata": {
        "id": "EZJQs9dRpAGt"
      },
      "source": [
        "### **Model selection:** \n",
        "**Decision tree:** Decision tree model: Tune parameters using cross-validation\n"
      ]
    },
    {
      "cell_type": "code",
      "execution_count": 11,
      "metadata": {
        "colab": {
          "base_uri": "https://localhost:8080/"
        },
        "id": "Nqlyd9-lpC6g",
        "outputId": "fd75f9e7-952a-4852-884a-04d93cd6a40f"
      },
      "outputs": [
        {
          "name": "stdout",
          "output_type": "stream",
          "text": [
            "accuracy: 81.66217430368373\n"
          ]
        }
      ],
      "source": [
        "clf = tree.DecisionTreeClassifier(random_state=0, max_depth=2)\n",
        "\n",
        "DT_result = cross_val_score(clf, X_train, y_train)\n",
        "\n",
        "print('accuracy:', DT_result.mean()*100)"
      ]
    },
    {
      "cell_type": "markdown",
      "metadata": {
        "id": "dsEmevoHJ4Cb"
      },
      "source": [
        "\n",
        "| random state | max depth | Accuracy |\n",
        "| :-: | :-: | :-: |\n",
        "| 0 | 2 | 81.6\n",
        "| 2 | 2 | 81.09\n",
        "| 20 | 2 | 81.66\n",
        "| 0 | 10 | 77.1\n",
        "| 0 | 20 | 76.1\n",
        "| 0 | 30 | 76.1\n",
        "| 0 | 5 | 80.3\n",
        "| 0 | 3 | 81.66\n",
        "| 0 | 1 | 76.005"
      ]
    },
    {
      "cell_type": "markdown",
      "metadata": {
        "id": "fBe077FGGOT-"
      },
      "source": [
        "Fit and evaluate the Decision Tree model on the training and test sets"
      ]
    },
    {
      "cell_type": "code",
      "execution_count": 12,
      "metadata": {
        "colab": {
          "base_uri": "https://localhost:8080/"
        },
        "id": "e8_HARsVAZfa",
        "outputId": "564e2f01-c49d-4c87-8cfd-1422071f4a8f"
      },
      "outputs": [
        {
          "data": {
            "text/plain": [
              "0.8620037807183365"
            ]
          },
          "execution_count": 12,
          "metadata": {},
          "output_type": "execute_result"
        }
      ],
      "source": [
        "clf.fit(X_train, y_train)\n",
        "y_predict_DT = clf.predict(X_train)\n",
        "accuracy_score(y_train, y_predict_DT)"
      ]
    },
    {
      "cell_type": "markdown",
      "metadata": {
        "id": "undQGCzNGasV"
      },
      "source": [
        "Finding the accuracy on test set:"
      ]
    },
    {
      "cell_type": "code",
      "execution_count": 13,
      "metadata": {
        "colab": {
          "base_uri": "https://localhost:8080/"
        },
        "id": "R4D3UxRMpI2f",
        "outputId": "3d55f9d6-d352-424f-e37c-57547ac1d948"
      },
      "outputs": [
        {
          "data": {
            "text/plain": [
              "0.7665198237885462"
            ]
          },
          "execution_count": 13,
          "metadata": {},
          "output_type": "execute_result"
        }
      ],
      "source": [
        "clf.fit(X_train, y_train)\n",
        "y_predict_DT_test = clf.predict(X_test)\n",
        "accuracy_score(y_test, y_predict_DT_test)"
      ]
    },
    {
      "cell_type": "markdown",
      "metadata": {
        "id": "E19vi0m9GebE"
      },
      "source": [
        "**Confusion matrix:**\\\n",
        "A confusion matrix M is such that M<sub>ij</sub> is equal to the number of observations known to be in group i and predicted to be in group j."
      ]
    },
    {
      "cell_type": "code",
      "execution_count": 14,
      "metadata": {
        "colab": {
          "base_uri": "https://localhost:8080/"
        },
        "id": "-LyKv6VepNUg",
        "outputId": "351cdc81-0a09-4883-e1aa-95f05fd4a4db"
      },
      "outputs": [
        {
          "data": {
            "text/plain": [
              "array([[ 31,  37],\n",
              "       [ 16, 143]])"
            ]
          },
          "execution_count": 14,
          "metadata": {},
          "output_type": "execute_result"
        }
      ],
      "source": [
        "confusion_matrix(y_test, y_predict_DT_test)"
      ]
    },
    {
      "cell_type": "code",
      "execution_count": 15,
      "metadata": {},
      "outputs": [
        {
          "data": {
            "image/png": "[encoded data removed]",
            "text/plain": [
              "<Figure size 640x480 with 1 Axes>"
            ]
          },
          "metadata": {},
          "output_type": "display_data"
        }
      ],
      "source": [
        "# Plot accuracy vs. max depth for Decision Tree\n",
        "res = []\n",
        "ind = []\n",
        "for i in range(2, 40, 2):\n",
        "    clf = tree.DecisionTreeClassifier(random_state=0, max_depth=i)\n",
        "    clf.fit(X_train, y_train)\n",
        "    result = cross_val_score(clf, X_train, y_train).mean()\n",
        "    res.append(result)\n",
        "    ind.append(i)\n",
        "plt.plot(ind, res)\n",
        "plt.xlabel(\"Max Depth\")\n",
        "plt.ylabel(\"Cross-Validation Accuracy\")\n",
        "plt.title(\"Decision Tree Accuracy vs. Max Depth\")\n",
        "plt.show()"
      ]
    },
    {
      "cell_type": "markdown",
      "metadata": {
        "id": "B01QUAUfpRHK"
      },
      "source": [
        "**K-Nearest Neighbors (KNN) model**: Tune parameters using cross-validation"
      ]
    },
    {
      "cell_type": "code",
      "execution_count": 16,
      "metadata": {
        "colab": {
          "base_uri": "https://localhost:8080/"
        },
        "id": "4hh02vx2pTPE",
        "outputId": "65b900af-d72b-4177-fa2c-f8444c2e34c0"
      },
      "outputs": [
        {
          "name": "stdout",
          "output_type": "stream",
          "text": [
            "accuracy: 90.54806828391735\n"
          ]
        }
      ],
      "source": [
        "clf2 = KNeighborsClassifier(n_neighbors=1)\n",
        "KNN_result = cross_val_score(clf2, X_train, y_train)\n",
        "\n",
        "print('accuracy:', KNN_result.mean()*100)"
      ]
    },
    {
      "cell_type": "markdown",
      "metadata": {
        "id": "e3GI9P7vLAeO"
      },
      "source": [
        "| n_neighbors | Accuracy |\n",
        "| :-: |  :-: |\n",
        "| 5 |  82.9\n",
        "| 3 |  85.6\n",
        "| 1  | 90.54\n",
        "| 7  | 82.99\n",
        "| 9  | 81.67\n",
        "| 11  | 82.05\n",
        "| 16  | 82.04\n",
        "| 30  | 80.72\n",
        "| 24  | 81.47\n",
        "| 28  | 80.9\n",
        "| 26  | 81.29\n",
        "| 27  | 79.96"
      ]
    },
    {
      "cell_type": "markdown",
      "metadata": {
        "id": "isWBp7WQGryd"
      },
      "source": [
        "Finding the accuracy on test set:"
      ]
    },
    {
      "cell_type": "code",
      "execution_count": 17,
      "metadata": {
        "colab": {
          "base_uri": "https://localhost:8080/"
        },
        "id": "Er5KxJTSpWn7",
        "outputId": "1394b8ef-4fd5-440a-9d16-c30cfe562eb3"
      },
      "outputs": [
        {
          "data": {
            "text/plain": [
              "88.10572687224669"
            ]
          },
          "execution_count": 17,
          "metadata": {},
          "output_type": "execute_result"
        }
      ],
      "source": [
        "clf2.fit(X_train, y_train)\n",
        "y_predict_KNN_test = clf2.predict(X_test)\n",
        "accuracy_score(y_test, y_predict_KNN_test)*100"
      ]
    },
    {
      "cell_type": "markdown",
      "metadata": {
        "id": "b1BFe7xRGuZ1"
      },
      "source": [
        "Confusion matrix:"
      ]
    },
    {
      "cell_type": "code",
      "execution_count": 18,
      "metadata": {
        "colab": {
          "base_uri": "https://localhost:8080/"
        },
        "id": "4nRupG0JpY0R",
        "outputId": "27ff4d51-e19a-475e-b68d-079a979d3e5d"
      },
      "outputs": [
        {
          "data": {
            "text/plain": [
              "array([[ 48,  20],\n",
              "       [  7, 152]])"
            ]
          },
          "execution_count": 18,
          "metadata": {},
          "output_type": "execute_result"
        }
      ],
      "source": [
        "confusion_matrix(y_test, y_predict_KNN_test)"
      ]
    },
    {
      "cell_type": "code",
      "execution_count": 50,
      "metadata": {},
      "outputs": [
        {
          "data": {
            "image/png": "[encoded data removed]",
            "text/plain": [
              "<Figure size 640x480 with 1 Axes>"
            ]
          },
          "metadata": {},
          "output_type": "display_data"
        }
      ],
      "source": [
        "# Plot accuracy vs. number of neighbors for KNN\n",
        "res = []\n",
        "ind = []\n",
        "for i in range(1, 20):\n",
        "    clf = KNeighborsClassifier(n_neighbors=i)\n",
        "    KNN_result = cross_val_score(clf, X_train_np, y_train_np).mean()\n",
        "    res.append(KNN_result)\n",
        "    ind.append(i)\n",
        "plt.plot(ind, res)\n",
        "plt.xlabel(\"Number of Neighbors\")\n",
        "plt.ylabel(\"Cross-Validation Accuracy\")\n",
        "plt.title(\"KNN Accuracy vs. Number of Neighbors\")\n",
        "plt.show()"
      ]
    },
    {
      "cell_type": "markdown",
      "metadata": {
        "id": "pq-Ibiq4pa8A"
      },
      "source": [
        "**Support Vector Machine (SVM) model:** Tune parameters using cross-validation"
      ]
    },
    {
      "cell_type": "code",
      "execution_count": 54,
      "metadata": {
        "colab": {
          "base_uri": "https://localhost:8080/"
        },
        "id": "lpk4C2W9pdFh",
        "outputId": "4c2798b2-86d9-4afe-b204-fbef0190c0a4"
      },
      "outputs": [
        {
          "name": "stdout",
          "output_type": "stream",
          "text": [
            "accuracy: 86.58580413297395\n"
          ]
        }
      ],
      "source": [
        "clf3 = svm.SVC(kernel='rbf', degree=3, C=3)\n",
        "SVM2_result = cross_val_score(clf3, X_train, y_train)\n",
        "\n",
        "print('accuracy:', SVM2_result.mean()*100)"
      ]
    },
    {
      "cell_type": "markdown",
      "metadata": {
        "id": "7cN9DaMYMdrv"
      },
      "source": [
        "| c |  degree | Accuracy |\n",
        "| :- |-: | :-: |\n",
        "| 3 | 4 |79.77\n",
        "| 2 | 4 |78.82\n",
        "| 2 | 5 |78.82\n",
        "| 2 | 7 |77.69\n",
        "| 3 | 6 |77.88\n",
        "| 4 | 6 |78.26\n",
        "| 3 | 5 |78.82\n",
        "| 4 | 5 |78.82\n",
        "| 3 | 3 |86.5\n",
        "| 3 | 2 |86.01"
      ]
    },
    {
      "cell_type": "markdown",
      "metadata": {
        "id": "0m5QmwYxG8gk"
      },
      "source": [
        "Finding accuracy on test set:"
      ]
    },
    {
      "cell_type": "code",
      "execution_count": 21,
      "metadata": {
        "colab": {
          "base_uri": "https://localhost:8080/"
        },
        "id": "S4TYhAI1pfUk",
        "outputId": "8737214f-2adc-47fc-eba3-69b220b0d07b"
      },
      "outputs": [
        {
          "data": {
            "text/plain": [
              "82.37885462555066"
            ]
          },
          "execution_count": 21,
          "metadata": {},
          "output_type": "execute_result"
        }
      ],
      "source": [
        "clf3.fit(X_train, y_train)\n",
        "y_predict_SVM_test = clf3.predict(X_test)\n",
        "accuracy_score(y_test, y_predict_SVM_test)*100"
      ]
    },
    {
      "cell_type": "markdown",
      "metadata": {
        "id": "_mT4q7NxHBu4"
      },
      "source": [
        "Making confusion matrix:"
      ]
    },
    {
      "cell_type": "code",
      "execution_count": 22,
      "metadata": {
        "colab": {
          "base_uri": "https://localhost:8080/"
        },
        "id": "kZlgCGq1phm8",
        "outputId": "2f7d3d08-1bb4-4fbd-fa95-3acbc553c206"
      },
      "outputs": [
        {
          "data": {
            "text/plain": [
              "array([[ 33,  35],\n",
              "       [  5, 154]])"
            ]
          },
          "execution_count": 22,
          "metadata": {},
          "output_type": "execute_result"
        }
      ],
      "source": [
        "confusion_matrix(y_test, y_predict_SVM_test)"
      ]
    },
    {
      "cell_type": "code",
      "execution_count": 58,
      "metadata": {},
      "outputs": [
        {
          "data": {
            "image/png": "[encoded data removed]",
            "text/plain": [
              "<Figure size 640x480 with 1 Axes>"
            ]
          },
          "metadata": {},
          "output_type": "display_data"
        }
      ],
      "source": [
        "# SVM: Plotting accuracy vs. C (SVM regularization parameter)\n",
        "C_values = [0.1, 1, 2, 3, 4, 5]\n",
        "mean_accuracy_values = []\n",
        "\n",
        "for C in C_values:\n",
        "    clf = svm.SVC(kernel='rbf', degree=3, C=C)\n",
        "    SVM_result = cross_val_score(clf, X_train, y_train)\n",
        "    mean_accuracy_values.append(SVM_result.mean())\n",
        "\n",
        "plt.plot(C_values, mean_accuracy_values)\n",
        "plt.xlabel(\"C (Regularization Parameter)\")\n",
        "plt.ylabel(\"Cross-Validation Accuracy\")\n",
        "plt.title(\"SVM Accuracy vs. C (Regularization Parameter)\")\n",
        "plt.show()\n"
      ]
    },
    {
      "cell_type": "markdown",
      "metadata": {
        "id": "kOakKAErpkt-"
      },
      "source": [
        "**Random Forest model**: Tune parameters using cross-validation"
      ]
    },
    {
      "cell_type": "code",
      "execution_count": 24,
      "metadata": {
        "colab": {
          "base_uri": "https://localhost:8080/"
        },
        "id": "vHJVW5qrpmhr",
        "outputId": "1aded1a0-75c3-4f91-8ade-165f14a30b85"
      },
      "outputs": [
        {
          "name": "stdout",
          "output_type": "stream",
          "text": [
            "accuracy: 87.14645103324348\n"
          ]
        }
      ],
      "source": [
        "clf4 = RandomForestClassifier(max_depth=30, random_state=0, n_estimators = 50)\n",
        "\n",
        "result = cross_val_score(clf4, X_train, y_train)\n",
        "\n",
        "print('accuracy:', result.mean()*100)"
      ]
    },
    {
      "cell_type": "markdown",
      "metadata": {
        "id": "D0JHX26DNnLL"
      },
      "source": [
        "| max depth | random state | n_estimator |Accuracy |\n",
        "| :-: |:-: | :-: | :-: |\n",
        "| 5 | 0 | 50 |85.06\n",
        "| 3 | 0 | 50 |82.9\n",
        "| 6 | 0 | 50 |84.8\n",
        "| 8 | 0 | 50 |86.01\n",
        "| 10 | 0 | 50 |86.19\n",
        "| 15 | 0 | 50 |86.95\n",
        "| 20 | 0 | 50 |87.14\n",
        "| 30 | 0 | 50 |82.61\n",
        "| 30 | 0 | 30 |85.44\n",
        "| 30 | 0 | 60 |86.57"
      ]
    },
    {
      "cell_type": "code",
      "execution_count": 25,
      "metadata": {
        "colab": {
          "base_uri": "https://localhost:8080/"
        },
        "id": "eUBz-xN6ppKW",
        "outputId": "d1d6b231-0f7a-407f-8b42-6f21a8b4dc95"
      },
      "outputs": [
        {
          "data": {
            "text/plain": [
              "85.46255506607929"
            ]
          },
          "execution_count": 25,
          "metadata": {},
          "output_type": "execute_result"
        }
      ],
      "source": [
        "clf4.fit(X_train, y_train)\n",
        "y_predict_RF_test = clf4.predict(X_test)\n",
        "accuracy_score(y_test, y_predict_RF_test)*100"
      ]
    },
    {
      "cell_type": "markdown",
      "metadata": {
        "id": "zQXFHwhmHSgK"
      },
      "source": [
        "Accuracy on test set:"
      ]
    },
    {
      "cell_type": "code",
      "execution_count": 26,
      "metadata": {
        "colab": {
          "base_uri": "https://localhost:8080/"
        },
        "id": "ckA8He5HprK3",
        "outputId": "e6d7a8b0-f497-4046-854d-b1742a4f0a9b"
      },
      "outputs": [
        {
          "data": {
            "text/plain": [
              "array([[ 39,  29],\n",
              "       [  4, 155]])"
            ]
          },
          "execution_count": 26,
          "metadata": {},
          "output_type": "execute_result"
        }
      ],
      "source": [
        "confusion_matrix(y_test, y_predict_RF_test)"
      ]
    },
    {
      "cell_type": "code",
      "execution_count": 27,
      "metadata": {},
      "outputs": [
        {
          "data": {
            "image/png": "[encoded data removed]",
            "text/plain": [
              "<Figure size 640x480 with 1 Axes>"
            ]
          },
          "metadata": {},
          "output_type": "display_data"
        }
      ],
      "source": [
        "# Random Forest: Plotting accuracy vs. number of estimators\n",
        "n_estimators_values = [10, 20, 30, 40, 50, 60, 70, 80, 90, 100]\n",
        "accuracy_values = []\n",
        "\n",
        "for n_estimators in n_estimators_values:\n",
        "    clf = RandomForestClassifier(max_depth=30, random_state=0, n_estimators=n_estimators)\n",
        "    RF_result = cross_val_score(clf, X_train, y_train)\n",
        "    accuracy_values.append(RF_result.mean() * 100)\n",
        "\n",
        "plt.plot(n_estimators_values, accuracy_values, marker='o')\n",
        "plt.xlabel(\"Number of Estimators\")\n",
        "plt.ylabel(\"Cross-Validation Accuracy\")\n",
        "plt.title(\"Random Forest Accuracy vs. Number of Estimators\")\n",
        "plt.grid(True)\n",
        "plt.show()"
      ]
    },
    {
      "cell_type": "markdown",
      "metadata": {
        "id": "ZjGvzadeYlDg"
      },
      "source": [
        "### **PCA** \n",
        "Principal component analysis (PCA) is the process of computing the principal components and using them to perform a change of basis on the data, sometimes using only the first few principal components and ignoring the rest.\n",
        "As there are a lot of features in this dataset, it is convenient to use PCA."
      ]
    },
    {
      "cell_type": "code",
      "execution_count": 28,
      "metadata": {
        "id": "8FKSpAuLYm-D"
      },
      "outputs": [],
      "source": [
        "pca = PCA(n_components=100)\n",
        "pca.fit(X_train)\n",
        "X_train = pca.transform(X_train)"
      ]
    },
    {
      "cell_type": "markdown",
      "metadata": {
        "id": "mcMSFaI10ded"
      },
      "source": [
        "Making a dataframe from the proccessed data.(train data)"
      ]
    },
    {
      "cell_type": "code",
      "execution_count": 29,
      "metadata": {
        "id": "FRzyCBDPaJnd"
      },
      "outputs": [],
      "source": [
        "X_train = pd.DataFrame(X_train)"
      ]
    },
    {
      "cell_type": "markdown",
      "metadata": {
        "id": "jUplLB7R1xcZ"
      },
      "source": [
        "Doing PCA on test data."
      ]
    },
    {
      "cell_type": "code",
      "execution_count": 30,
      "metadata": {
        "id": "imi6vBadcOHv"
      },
      "outputs": [],
      "source": [
        "pca.fit(X_test)\n",
        "X_test = pca.transform(X_test)"
      ]
    },
    {
      "cell_type": "markdown",
      "metadata": {
        "id": "P-H915vi14X5"
      },
      "source": [
        "**Decision tree:**"
      ]
    },
    {
      "cell_type": "code",
      "execution_count": 31,
      "metadata": {
        "colab": {
          "base_uri": "https://localhost:8080/"
        },
        "id": "uGIzic7fZiMe",
        "outputId": "5ea95e0e-cc74-404e-cdf4-0fab29bcd945"
      },
      "outputs": [
        {
          "name": "stdout",
          "output_type": "stream",
          "text": [
            "accuracy: 80.71698113207546\n"
          ]
        }
      ],
      "source": [
        "clf = tree.DecisionTreeClassifier(random_state=0, max_depth=2)\n",
        "clf.fit(X_train, y_train)\n",
        "result = cross_val_score(clf, X_train, y_train)\n",
        "print('accuracy:', result.mean()*100)"
      ]
    },
    {
      "cell_type": "markdown",
      "metadata": {
        "id": "6LZgGgTjs1O6"
      },
      "source": [
        "\n",
        "| random state | max depth | Accuracy |\n",
        "| :-: | :-: | :-: |\n",
        "| 0 | 2 | 80.90\n",
        "| 2 | 2 | 80.90\n",
        "| 20 | 2 | 80.90\n",
        "| 0 | 1 | 78.26\n",
        "| 0 | 15 | 77.49\n",
        "| 0 | 10 | 78.25"
      ]
    },
    {
      "cell_type": "markdown",
      "metadata": {
        "id": "9Mv0whZl54GA"
      },
      "source": [
        "Accuracy on test set:"
      ]
    },
    {
      "cell_type": "code",
      "execution_count": 32,
      "metadata": {
        "colab": {
          "base_uri": "https://localhost:8080/"
        },
        "id": "OgFX9Lfs3myw",
        "outputId": "3a309c54-4e9d-4ab0-a201-98e8140b0f08"
      },
      "outputs": [
        {
          "data": {
            "text/plain": [
              "70.04405286343612"
            ]
          },
          "execution_count": 32,
          "metadata": {},
          "output_type": "execute_result"
        }
      ],
      "source": [
        "clf.fit(X_train, y_train)\n",
        "y_predict_DT_test_PCA = clf.predict(X_test)\n",
        "accuracy_score(y_test, y_predict_DT_test_PCA)*100"
      ]
    },
    {
      "cell_type": "markdown",
      "metadata": {
        "id": "hhXFA2Q37b-M"
      },
      "source": [
        "Confusion matrix:"
      ]
    },
    {
      "cell_type": "code",
      "execution_count": 33,
      "metadata": {
        "colab": {
          "base_uri": "https://localhost:8080/"
        },
        "id": "q9IqhMx87ecZ",
        "outputId": "ac39fb83-c28e-4945-946c-1cd1d27c2179"
      },
      "outputs": [
        {
          "data": {
            "text/plain": [
              "array([[  2,  66],\n",
              "       [  2, 157]])"
            ]
          },
          "execution_count": 33,
          "metadata": {},
          "output_type": "execute_result"
        }
      ],
      "source": [
        "confusion_matrix(y_test, y_predict_DT_test_PCA)"
      ]
    },
    {
      "cell_type": "markdown",
      "metadata": {
        "id": "t5-kYYY458Tg"
      },
      "source": [
        "**KNN:**"
      ]
    },
    {
      "cell_type": "code",
      "execution_count": 34,
      "metadata": {
        "colab": {
          "base_uri": "https://localhost:8080/"
        },
        "id": "ly31LdUg4EVJ",
        "outputId": "dd9364f4-ddbd-4f41-de16-c3586313c077"
      },
      "outputs": [
        {
          "name": "stdout",
          "output_type": "stream",
          "text": [
            "accuracy: 90.92902066486973\n"
          ]
        }
      ],
      "source": [
        "clf = KNeighborsClassifier(n_neighbors=1)\n",
        "\n",
        "\n",
        "X_train_np = X_train.to_numpy()\n",
        "# X_test_np = X_test.to_numpy()\n",
        "\n",
        "# Convert y_train to a NumPy array\n",
        "y_train_np = y_train.to_numpy()\n",
        "\n",
        "KNN_result = cross_val_score(clf, X_train_np, y_train_np)\n",
        "\n",
        "print('accuracy:', KNN_result.mean()*100)"
      ]
    },
    {
      "cell_type": "markdown",
      "metadata": {
        "id": "j8SYa1Fktb65"
      },
      "source": [
        "| n_neighbors | Accuracy |\n",
        "| :-: |  :-: |\n",
        "| 5 |  83.94\n",
        "| 3 |  86.3\n",
        "| 1  | 90.73\n",
        "| 7  | 83.75"
      ]
    },
    {
      "cell_type": "markdown",
      "metadata": {
        "id": "7e-Yj_l46TBy"
      },
      "source": [
        "Accuracy on test set:"
      ]
    },
    {
      "cell_type": "code",
      "execution_count": 35,
      "metadata": {
        "colab": {
          "base_uri": "https://localhost:8080/"
        },
        "id": "ixIVYpkP6SVo",
        "outputId": "691ce896-53de-4a74-fc91-af05768589ae"
      },
      "outputs": [
        {
          "data": {
            "text/plain": [
              "66.96035242290749"
            ]
          },
          "execution_count": 35,
          "metadata": {},
          "output_type": "execute_result"
        }
      ],
      "source": [
        "clf.fit(X_train, y_train)\n",
        "y_predict_KNN_test_PCA = clf.predict(X_test)\n",
        "accuracy_score(y_test, y_predict_KNN_test_PCA)*100"
      ]
    },
    {
      "cell_type": "markdown",
      "metadata": {
        "id": "DidlpDT27gf7"
      },
      "source": [
        "Confusion matrix:"
      ]
    },
    {
      "cell_type": "code",
      "execution_count": 36,
      "metadata": {
        "colab": {
          "base_uri": "https://localhost:8080/"
        },
        "id": "cZaNjggr7iQH",
        "outputId": "bfd9693c-64b6-4a30-8504-619cead98ef6"
      },
      "outputs": [
        {
          "data": {
            "text/plain": [
              "array([[ 15,  53],\n",
              "       [ 22, 137]])"
            ]
          },
          "execution_count": 36,
          "metadata": {},
          "output_type": "execute_result"
        }
      ],
      "source": [
        "confusion_matrix(y_test, y_predict_KNN_test_PCA)"
      ]
    },
    {
      "cell_type": "markdown",
      "metadata": {
        "id": "N0wsK0Lq6YrZ"
      },
      "source": [
        "**SVM:**"
      ]
    },
    {
      "cell_type": "code",
      "execution_count": 37,
      "metadata": {
        "colab": {
          "base_uri": "https://localhost:8080/"
        },
        "id": "ia1NlmlD6bDZ",
        "outputId": "47508761-d77e-4968-fdaf-82402b5cee46"
      },
      "outputs": [
        {
          "name": "stdout",
          "output_type": "stream",
          "text": [
            "accuracy: 86.39532794249776\n"
          ]
        }
      ],
      "source": [
        "clf = svm.SVC(kernel='rbf', degree=2, C=10)\n",
        "SVM2_result = cross_val_score(clf, X_train, y_train)\n",
        "\n",
        "print('accuracy:', SVM2_result.mean()*100)"
      ]
    },
    {
      "cell_type": "markdown",
      "metadata": {
        "id": "2389-9kAt-zV"
      },
      "source": [
        "| degree |  c | Accuracy |\n",
        "| :- |-: | :-: |\n",
        "| 1 | 2 |86.20\n",
        "| 1 | 3 |86.20\n",
        "| 1 | 4 |86.20\n",
        "| 2 | 3 |86.20\n",
        "| 2 | 10 |86.77"
      ]
    },
    {
      "cell_type": "markdown",
      "metadata": {
        "id": "G0VQb5hW6k_0"
      },
      "source": [
        "Accuracy on test set:"
      ]
    },
    {
      "cell_type": "code",
      "execution_count": 38,
      "metadata": {
        "colab": {
          "base_uri": "https://localhost:8080/"
        },
        "id": "I0nyOoOX6oY-",
        "outputId": "f2167757-fd99-4cf0-c60f-2fbafec59b4d"
      },
      "outputs": [
        {
          "data": {
            "text/plain": [
              "67.84140969162996"
            ]
          },
          "execution_count": 38,
          "metadata": {},
          "output_type": "execute_result"
        }
      ],
      "source": [
        "clf.fit(X_train, y_train)\n",
        "y_predict_SVM_test_PCA = clf.predict(X_test)\n",
        "accuracy_score(y_test, y_predict_SVM_test_PCA)*100"
      ]
    },
    {
      "cell_type": "markdown",
      "metadata": {
        "id": "TwZu0sHj7kAc"
      },
      "source": [
        "Confusion matrix:"
      ]
    },
    {
      "cell_type": "code",
      "execution_count": 39,
      "metadata": {
        "colab": {
          "base_uri": "https://localhost:8080/"
        },
        "id": "kZN0GPVl7lc_",
        "outputId": "cce257e4-5d64-4ac6-9d6a-18718366b783"
      },
      "outputs": [
        {
          "data": {
            "text/plain": [
              "array([[  7,  61],\n",
              "       [ 12, 147]])"
            ]
          },
          "execution_count": 39,
          "metadata": {},
          "output_type": "execute_result"
        }
      ],
      "source": [
        "confusion_matrix(y_test, y_predict_SVM_test_PCA)"
      ]
    },
    {
      "cell_type": "markdown",
      "metadata": {
        "id": "MHC6eiw26qO7"
      },
      "source": [
        "**Random Forrest:**"
      ]
    },
    {
      "cell_type": "code",
      "execution_count": 40,
      "metadata": {
        "colab": {
          "base_uri": "https://localhost:8080/"
        },
        "id": "IoDDQkW_6t16",
        "outputId": "23751f9e-912d-4722-a934-001e8a73afe5"
      },
      "outputs": [
        {
          "name": "stdout",
          "output_type": "stream",
          "text": [
            "accuracy: 82.04312668463612\n"
          ]
        }
      ],
      "source": [
        "clf = RandomForestClassifier(max_depth=40, random_state=0, n_estimators = 50)\n",
        "\n",
        "result = cross_val_score(clf, X_train, y_train)\n",
        "\n",
        "print('accuracy:', result.mean()*100)"
      ]
    },
    {
      "cell_type": "markdown",
      "metadata": {
        "id": "R_ubqtoNudOj"
      },
      "source": [
        "| max depth | random state | n_estimator |Accuracy |\n",
        "| :-: |:-: | :-: | :-: |\n",
        "| 5 | 0 | 50 |78.45\n",
        "| 40 | 0 | 50 |82.61\n",
        "| 30 | 0 | 30 |82.23\n",
        "| 30 | 0 | 50 |81.85\n",
        "| 30 | 0 | 70 |81.09\n",
        "| 50 | 0 | 50 |81.85"
      ]
    },
    {
      "cell_type": "markdown",
      "metadata": {
        "id": "1JocO83-68aM"
      },
      "source": [
        "Accuracy on test set:"
      ]
    },
    {
      "cell_type": "code",
      "execution_count": 41,
      "metadata": {
        "colab": {
          "base_uri": "https://localhost:8080/"
        },
        "id": "7B_vPAC47Atk",
        "outputId": "0a4a284f-35a1-40d2-9472-aeb96119c82e"
      },
      "outputs": [
        {
          "data": {
            "text/plain": [
              "69.16299559471366"
            ]
          },
          "execution_count": 41,
          "metadata": {},
          "output_type": "execute_result"
        }
      ],
      "source": [
        "clf.fit(X_train, y_train)\n",
        "y_predict_RF_test_PCA = clf.predict(X_test)\n",
        "accuracy_score(y_test, y_predict_RF_test_PCA)*100"
      ]
    },
    {
      "cell_type": "markdown",
      "metadata": {
        "id": "v_V-HNj27ncc"
      },
      "source": [
        "Confusion matrix:"
      ]
    },
    {
      "cell_type": "code",
      "execution_count": 42,
      "metadata": {
        "colab": {
          "base_uri": "https://localhost:8080/"
        },
        "id": "n4DVj53b7qtd",
        "outputId": "738d5213-636b-4c5d-d72d-2aa6197f32fb"
      },
      "outputs": [
        {
          "data": {
            "text/plain": [
              "array([[  0,  68],\n",
              "       [  2, 157]])"
            ]
          },
          "execution_count": 42,
          "metadata": {},
          "output_type": "execute_result"
        }
      ],
      "source": [
        "confusion_matrix(y_test, y_predict_RF_test_PCA)"
      ]
    },
    {
      "cell_type": "markdown",
      "metadata": {
        "id": "X-z5Ds0xvt8N"
      },
      "source": [
        "Another way to check the accuracy:"
      ]
    },
    {
      "cell_type": "code",
      "execution_count": 43,
      "metadata": {
        "colab": {
          "base_uri": "https://localhost:8080/"
        },
        "id": "V4Tqb4OFIUsI",
        "outputId": "733930a1-68f8-4064-f7ab-5d50f432d25d"
      },
      "outputs": [
        {
          "name": "stdout",
          "output_type": "stream",
          "text": [
            "              precision    recall  f1-score   support\n",
            "\n",
            "           0       0.00      0.00      0.00        68\n",
            "           1       0.70      0.99      0.82       159\n",
            "\n",
            "    accuracy                           0.69       227\n",
            "   macro avg       0.35      0.49      0.41       227\n",
            "weighted avg       0.49      0.69      0.57       227\n",
            "\n"
          ]
        }
      ],
      "source": [
        "from sklearn.metrics import classification_report \n",
        "print(classification_report(y_test, y_predict_RF_test_PCA))"
      ]
    },
    {
      "cell_type": "markdown",
      "metadata": {
        "id": "AB1tUUQaw5HY"
      },
      "source": [
        "Before PCA:"
      ]
    },
    {
      "cell_type": "markdown",
      "metadata": {
        "id": "PH0WJ-P5wHGd"
      },
      "source": [
        "\n",
        "| model |cross validation | test | train |\n",
        "| :-: |:-: | :-: | :-: |\n",
        "| Desicion tree | 81.6| 76.6 | 86.2\n",
        "| KNN | 90 | 88 |100\n",
        "| SVM | 86.01 | 82.3 |98\n",
        "| Random forrest | 87.1 | 85.4 | 100\n"
      ]
    },
    {
      "cell_type": "markdown",
      "metadata": {
        "id": "i_rf_kl_w8V3"
      },
      "source": [
        "After PCA:"
      ]
    },
    {
      "cell_type": "markdown",
      "metadata": {
        "id": "kgxx72Jtw96q"
      },
      "source": [
        "\n",
        "| model |cross validation | test | train |\n",
        "| :-: |:-: | :-: | :-: |\n",
        "| Desicion tree | 80.90| 81.3 | 99.8\n",
        "| KNN | 89.9 | 65 |100\n",
        "| SVM | 86.77 | 71.3 |99.8\n",
        "| Random forrest | 81.8 | 69.1 | 100\n"
      ]
    },
    {
      "cell_type": "markdown",
      "metadata": {
        "id": "GSXSB3h4xrZn"
      },
      "source": [
        "As it was obvious (Due to the loss of data), the accuracy decreased after doing PCA.\\\n",
        "Overall PCA will help us to reduce the time needed for trainin, although it ,mostly, will reduce the accuracy.\\\n",
        "It can be seen that random forrest and KNN are overfitting (both after and before PCA)."
      ]
    },
    {
      "cell_type": "markdown",
      "metadata": {
        "id": "v_4OYrVqzOrz"
      },
      "source": [
        "**PLOTS:**"
      ]
    },
    {
      "cell_type": "code",
      "execution_count": 44,
      "metadata": {
        "colab": {
          "base_uri": "https://localhost:8080/"
        },
        "id": "C3IR5QHLzQgs",
        "outputId": "1c360759-4b6c-4407-dae7-aacbf4e04009"
      },
      "outputs": [],
      "source": [
        "res = []\n",
        "ind = []\n",
        "\n",
        "for i in range(1,20):\n",
        "  clf = KNeighborsClassifier(n_neighbors=i)\n",
        "  KNN_result = cross_val_score(clf, X_train_np, y_train_np).mean()\n",
        "  res.append(KNN_result)\n",
        "  ind.append(i)"
      ]
    },
    {
      "cell_type": "code",
      "execution_count": 45,
      "metadata": {
        "colab": {
          "base_uri": "https://localhost:8080/",
          "height": 279
        },
        "id": "dnIjxWfQz_Sn",
        "outputId": "c46d005e-24f6-4548-d060-abc6a25c6351"
      },
      "outputs": [
        {
          "data": {
            "image/png": "[encoded data removed]",
            "text/plain": [
              "<Figure size 640x480 with 1 Axes>"
            ]
          },
          "metadata": {},
          "output_type": "display_data"
        }
      ],
      "source": [
        "plt.plot(res,ind)\n",
        "plt.xlabel(\"accuracy\")\n",
        "plt.ylabel(\"number of neighbors\")\n",
        "plt.show()"
      ]
    },
    {
      "cell_type": "markdown",
      "metadata": {
        "id": "aGnGbmc_2JLa"
      },
      "source": [
        "As the number of neighbors increases, accuracy decreases."
      ]
    },
    {
      "cell_type": "code",
      "execution_count": 46,
      "metadata": {
        "id": "3Ag44spl0G0V"
      },
      "outputs": [],
      "source": [
        "res =[]\n",
        "ind =[]\n",
        "for i in range(2, 40, 2):\n",
        "  clf = tree.DecisionTreeClassifier(random_state=0, max_depth=i)\n",
        "  clf.fit(X_train, y_train)\n",
        "  result = cross_val_score(clf, X_train, y_train).mean()\n",
        "  res.append(result)\n",
        "  ind.append(i)"
      ]
    },
    {
      "cell_type": "code",
      "execution_count": 47,
      "metadata": {
        "colab": {
          "base_uri": "https://localhost:8080/",
          "height": 279
        },
        "id": "LyKwvLMQ0Jj_",
        "outputId": "e822593a-fbc9-4c01-9bc2-7ab95986b688"
      },
      "outputs": [
        {
          "data": {
            "image/png": "[encoded data removed]",
            "text/plain": [
              "<Figure size 640x480 with 1 Axes>"
            ]
          },
          "metadata": {},
          "output_type": "display_data"
        }
      ],
      "source": [
        "plt.plot(res,ind)\n",
        "plt.xlabel(\"accuracy\")\n",
        "plt.ylabel(\"max depth\")\n",
        "plt.show()"
      ]
    },
    {
      "cell_type": "markdown",
      "metadata": {
        "id": "O8tF_VAI250o"
      },
      "source": [
        "As the max depth increases, accuracy decreases."
      ]
    },
    {
      "cell_type": "code",
      "execution_count": 48,
      "metadata": {},
      "outputs": [
        {
          "data": {
            "image/png": "[encoded data removed]",
            "text/plain": [
              "<Figure size 1200x600 with 1 Axes>"
            ]
          },
          "metadata": {},
          "output_type": "display_data"
        }
      ],
      "source": [
        "# Plotting accuracy comparison before and after PCA\n",
        "plt.figure(figsize=(12, 6))\n",
        "models = ['Decision Tree', 'KNN', 'SVM', 'Random Forest']\n",
        "accuracy_before_pca = [76.6, 88.1, 82.3, 85.4]  # Replace with your accuracy scores\n",
        "accuracy_after_pca = [70.0, 67.4, 70.9, 70.04]    # Replace with your accuracy scores\n",
        "plt.bar(models, accuracy_before_pca, alpha=0.7, label='Before PCA')\n",
        "plt.bar(models, accuracy_after_pca, alpha=0.7, label='After PCA')\n",
        "plt.title('Model Accuracy Comparison (test set) (Before and After PCA)')\n",
        "plt.xlabel('Model')\n",
        "plt.ylabel('Accuracy (%)')\n",
        "plt.legend(loc='upper right')\n",
        "plt.show()\n"
      ]
    }
  ],
  "metadata": {
    "colab": {
      "collapsed_sections": [],
      "name": "DM-hw2/2-babaahmadi-narges-610398102.ipynb",
      "provenance": []
    },
    "kernelspec": {
      "display_name": "Python 3",
      "name": "python3"
    },
    "language_info": {
      "codemirror_mode": {
        "name": "ipython",
        "version": 3
      },
      "file_extension": ".py",
      "mimetype": "text/x-python",
      "name": "python",
      "nbconvert_exporter": "python",
      "pygments_lexer": "ipython3",
      "version": "3.10.9"
    }
  },
  "nbformat": 4,
  "nbformat_minor": 0
}
